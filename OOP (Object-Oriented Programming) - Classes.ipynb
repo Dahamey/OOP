{
 "cells": [
  {
   "cell_type": "markdown",
   "id": "aaa5a15b",
   "metadata": {},
   "source": [
    "<h1 style=\"text-align:center;\">OOP (Object-Oriented Programming) - Classes</h1>\n",
    "\n",
    "\n",
    "\n"
   ]
  },
  {
   "cell_type": "code",
   "execution_count": 2,
   "id": "e204ad87",
   "metadata": {},
   "outputs": [
    {
     "name": "stdout",
     "output_type": "stream",
     "text": [
      "<class 'str'>\n"
     ]
    }
   ],
   "source": [
    "print(type(\"Hello\"))"
   ]
  },
  {
   "cell_type": "code",
   "execution_count": 3,
   "id": "0bf20b11",
   "metadata": {},
   "outputs": [
    {
     "name": "stdout",
     "output_type": "stream",
     "text": [
      "<class 'int'>\n"
     ]
    }
   ],
   "source": [
    "x = 2\n",
    "print(type(x))"
   ]
  },
  {
   "cell_type": "code",
   "execution_count": 4,
   "id": "fa3effa0",
   "metadata": {},
   "outputs": [
    {
     "name": "stdout",
     "output_type": "stream",
     "text": [
      "<class 'function'>\n"
     ]
    }
   ],
   "source": [
    "def hello() :\n",
    "    print(\"Hello\")\n",
    "    \n",
    "print(type(hello))"
   ]
  },
  {
   "cell_type": "markdown",
   "id": "dc571829",
   "metadata": {},
   "source": [
    "## Methods"
   ]
  },
  {
   "cell_type": "code",
   "execution_count": 5,
   "id": "25362552",
   "metadata": {},
   "outputs": [
    {
     "name": "stdout",
     "output_type": "stream",
     "text": [
      "HELLO\n"
     ]
    }
   ],
   "source": [
    "string = \"Hello\"\n",
    "print(string.upper())"
   ]
  },
  {
   "cell_type": "markdown",
   "id": "165d0c91",
   "metadata": {},
   "source": [
    "## Creating Classes"
   ]
  },
  {
   "cell_type": "markdown",
   "id": "1d7c12ce",
   "metadata": {},
   "source": [
    "The name of the class begins with an upper case"
   ]
  },
  {
   "cell_type": "code",
   "execution_count": 6,
   "id": "627ae428",
   "metadata": {},
   "outputs": [],
   "source": [
    "class Dog:\n",
    "    def __init__(self, name, age):  # Constructor\n",
    "        self.name = name    # name of the dog\n",
    "        self.age = age\n",
    "    \n",
    "    def get_name(self) :\n",
    "        return self.name\n",
    "    \n",
    "    def get_age(self):\n",
    "        return self.age\n",
    "    \n",
    "    # modifying attributes :\n",
    "    def set_age(self, age):\n",
    "        self.age = age # to update the age\n",
    "    \n",
    "    def add_one(self, x) :\n",
    "        return x+1\n",
    "    \n",
    "    def bark(self):   # This is a method (which is a fct that goes inside of a class)\n",
    "        print('Bark!')"
   ]
  },
  {
   "cell_type": "code",
   "execution_count": 7,
   "id": "7e7d4f33",
   "metadata": {},
   "outputs": [
    {
     "name": "stdout",
     "output_type": "stream",
     "text": [
      "<class '__main__.Dog'>\n"
     ]
    }
   ],
   "source": [
    "# creating a new instance of the class \"Dog\"\n",
    "d = Dog(\"Tim\", 3)\n",
    "print(type(d))"
   ]
  },
  {
   "cell_type": "markdown",
   "id": "70a2500c",
   "metadata": {},
   "source": [
    "__main__ is telling us what module this class was defined in. Now, by default the module that we run is called the main module"
   ]
  },
  {
   "cell_type": "code",
   "execution_count": 8,
   "id": "195659b2",
   "metadata": {},
   "outputs": [
    {
     "name": "stdout",
     "output_type": "stream",
     "text": [
      "Bark!\n"
     ]
    }
   ],
   "source": [
    "# To use the method 'bark' on the instance 'd' :\n",
    "d.bark()"
   ]
  },
  {
   "cell_type": "code",
   "execution_count": 9,
   "id": "2c9a9dd3",
   "metadata": {},
   "outputs": [
    {
     "name": "stdout",
     "output_type": "stream",
     "text": [
      "6\n"
     ]
    }
   ],
   "source": [
    "print(d.add_one(5))"
   ]
  },
  {
   "cell_type": "markdown",
   "id": "8a75e4cc",
   "metadata": {},
   "source": [
    "##  __init__, self"
   ]
  },
  {
   "cell_type": "markdown",
   "id": "af76c325",
   "metadata": {},
   "source": [
    "`__init__` is a special method, it allows us to instantiate the object right when it is created. So this method will be called whenever we write this line `Dog()`. So whenever we create a new `Dog` instance by writing `Dog()`, `__init__` will be called, and it will pass any argument we put inside `Dog(arg)`to it (`__init__`). `.name` is an attribute of the class `Dog`. everytime we create a new `Dog` object, we will pass a name to the parameter `name`, `self` in `__init__` denote the object itself. What `self` is doing, is everytime that any of the methods is called, kind of \"invisibly\", the actual reference to the `Dog` object is passed, so we can access attributes that are specific to each dog."
   ]
  },
  {
   "cell_type": "code",
   "execution_count": 10,
   "id": "9d64e98e",
   "metadata": {},
   "outputs": [
    {
     "name": "stdout",
     "output_type": "stream",
     "text": [
      "Tim\n",
      "Bill\n"
     ]
    }
   ],
   "source": [
    "d2 = Dog(\"Bill\", 7)\n",
    "\n",
    "print(d.name)\n",
    "print(d2.name)"
   ]
  },
  {
   "cell_type": "code",
   "execution_count": 11,
   "id": "7e610ff4",
   "metadata": {},
   "outputs": [
    {
     "name": "stdout",
     "output_type": "stream",
     "text": [
      "Tim\n"
     ]
    }
   ],
   "source": [
    "print(d.get_name())"
   ]
  },
  {
   "cell_type": "code",
   "execution_count": 12,
   "id": "ffba8a3c",
   "metadata": {},
   "outputs": [
    {
     "name": "stdout",
     "output_type": "stream",
     "text": [
      "3\n",
      "3\n"
     ]
    }
   ],
   "source": [
    "print(d.get_age())\n",
    "print(d.age)"
   ]
  },
  {
   "cell_type": "code",
   "execution_count": 13,
   "id": "d0b54224",
   "metadata": {},
   "outputs": [
    {
     "name": "stdout",
     "output_type": "stream",
     "text": [
      "7\n",
      "7\n"
     ]
    }
   ],
   "source": [
    "print(d2.get_age())\n",
    "print(d2.age)"
   ]
  },
  {
   "cell_type": "code",
   "execution_count": 14,
   "id": "34f9d499",
   "metadata": {},
   "outputs": [
    {
     "name": "stdout",
     "output_type": "stream",
     "text": [
      "3\n",
      "12\n"
     ]
    }
   ],
   "source": [
    "print(d.age)\n",
    "d.set_age(12) # update the age from 3 to 12\n",
    "print(d.age)"
   ]
  },
  {
   "cell_type": "markdown",
   "id": "cdf03bc4",
   "metadata": {},
   "source": [
    "So we can access these different attributes (name, age...) from methods inside our class. This where things get very powerful, because this allows us to access data that is stored within a specific object and do different things with it based on how different methods and different things are being called. So the class `Dog` is pretty much the **blueprint** that defines how a dog actually works, how it operates, what it can do, the methods associated with it and the attributes that exists.\n",
    "\n",
    "### Advantages of classes :\n",
    "The nice thing about object-oriented programming is once we create one of these classes, we can have an infinite amount of instances of this class without having to change anything."
   ]
  },
  {
   "cell_type": "markdown",
   "id": "ff012a89",
   "metadata": {},
   "source": [
    "# Multiple Classes"
   ]
  },
  {
   "cell_type": "code",
   "execution_count": 14,
   "id": "b767b7ef",
   "metadata": {},
   "outputs": [],
   "source": [
    "class Student :\n",
    "    \n",
    "    def __init__(self, name, age, grade) :  # name of the student\n",
    "        # 3 attributes\n",
    "        self.name = name\n",
    "        self.age = age\n",
    "        self.grade = grade   # [0,100]\n",
    "    \n",
    "    def get_grade(self) :\n",
    "        # 1 method\n",
    "        return self.grade\n",
    "    \n",
    "    \n",
    "    \n",
    "    \n",
    "class Course : \n",
    "    \n",
    "    def __init__(self, name, max_students) : # name of the course\n",
    "        # 4 attributes\n",
    "        self.name = name\n",
    "        self.max_students = max_students\n",
    "        self.students = []\n",
    "        self.is_active = False\n",
    "        \n",
    "    def add_student(self, student) :\n",
    "        \"\"\"To have the ability to add students to a course\"\"\"\n",
    "        if len(self.students) < self.max_students :\n",
    "            self.students.append(student)\n",
    "            return True\n",
    "        return False\n",
    "    \n",
    "    def get_average_grade(self) :\n",
    "        value = 0\n",
    "        for student in self.students :\n",
    "            value += student.get_grade()\n",
    "        return value / len(self.students)\n",
    "    "
   ]
  },
  {
   "cell_type": "code",
   "execution_count": 15,
   "id": "1c8677cf",
   "metadata": {},
   "outputs": [
    {
     "data": {
      "text/plain": [
       "True"
      ]
     },
     "execution_count": 15,
     "metadata": {},
     "output_type": "execute_result"
    }
   ],
   "source": [
    "s1 = Student(\"Tim\", 19, 95)\n",
    "s2 = Student(\"Bill\", 18, 75)\n",
    "s3 = Student(\"Jill\", 19, 65)\n",
    "\n",
    "# Build a Science course class with max students of 2\n",
    "course = Course(\"Science\", 2)\n",
    "course.add_student(s1)\n",
    "course.add_student(s2)"
   ]
  },
  {
   "cell_type": "code",
   "execution_count": 16,
   "id": "6e9bd9ce",
   "metadata": {},
   "outputs": [
    {
     "name": "stdout",
     "output_type": "stream",
     "text": [
      "Tim\n"
     ]
    }
   ],
   "source": [
    "print(course.students[0].name)"
   ]
  },
  {
   "cell_type": "code",
   "execution_count": 17,
   "id": "8821f4d7",
   "metadata": {},
   "outputs": [
    {
     "name": "stdout",
     "output_type": "stream",
     "text": [
      "85.0\n"
     ]
    }
   ],
   "source": [
    "print(course.get_average_grade())"
   ]
  },
  {
   "cell_type": "markdown",
   "id": "eb08b20b",
   "metadata": {},
   "source": [
    "##### "
   ]
  },
  {
   "cell_type": "code",
   "execution_count": 18,
   "id": "b4d24421",
   "metadata": {},
   "outputs": [
    {
     "data": {
      "text/plain": [
       "False"
      ]
     },
     "execution_count": 18,
     "metadata": {},
     "output_type": "execute_result"
    }
   ],
   "source": [
    "# If we try to add a 3rd student to the course (of max student = 2):\n",
    "course.add_student(s3)  # False"
   ]
  },
  {
   "cell_type": "markdown",
   "id": "0eca9f1c",
   "metadata": {},
   "source": [
    "# Inheritence\n",
    "\n",
    "The idea behind inheritence, is that we have 2 classes that are very similar, let's say we have 2 classes called `Dog` and `Cat`. Notice that these two classes are almost identical, so there must be a way where we don't need to write the identical parts twice, that we can actually use what's called **inheretence**, so that these `Dog` and `Cat` classes can **inherit** from an upper level class, which means that all that functionality is defined in one place, and we only need to write what's different about those 2 classes inside of them."
   ]
  },
  {
   "cell_type": "code",
   "execution_count": 19,
   "id": "56ba9a4d",
   "metadata": {},
   "outputs": [],
   "source": [
    "class Cat :\n",
    "    def __init__(self, name, age) :\n",
    "        self.name = name\n",
    "        self.age = age\n",
    "    def speak(self):\n",
    "        print(\"Meow!\")\n",
    "        \n",
    "class Dog :\n",
    "    def __init__(self, name, age) :\n",
    "        self.name = name\n",
    "        self.age = age\n",
    "    \n",
    "    def speak(self):\n",
    "        print(\"Bark!\")"
   ]
  },
  {
   "cell_type": "code",
   "execution_count": 20,
   "id": "87cd68ce",
   "metadata": {},
   "outputs": [],
   "source": [
    "class Pet : # upper level class  # general class # super class\n",
    "    \n",
    "    def __init__(self, name, age) :\n",
    "        self.name = name\n",
    "        self.age = age\n",
    "    \n",
    "    def show(self):\n",
    "        print(f\"I am {self.name}, and I am {self.age} years old\")\n",
    "    \n",
    "    def speak(self):\n",
    "        print(\"I don't know what to say!\")\n",
    "    \n",
    "    \n",
    "class Dog(Pet) :   # inheriting the upper class \"Pet\"  # specific class\n",
    "    def speak(self) : # overwrites the speak method in Pet\n",
    "        print(\"Bark!\")\n",
    "    \n",
    "    \n",
    "class Cat(Pet) :   # inheriting the upper class \"Pet\"  # specific class\n",
    "    def speak(self) : # overwrites the speak method in Pet\n",
    "        print(\"Meow!\")\n",
    "        \n",
    "        \n",
    "        \n",
    "class Fish(Pet):\n",
    "    pass"
   ]
  },
  {
   "cell_type": "code",
   "execution_count": 21,
   "id": "d1aa128b",
   "metadata": {},
   "outputs": [
    {
     "name": "stdout",
     "output_type": "stream",
     "text": [
      "I am Tim, and I am 19 years old\n"
     ]
    }
   ],
   "source": [
    "# Pet instence\n",
    "p = Pet(\"Tim\", 19)\n",
    "# Calling the show method\n",
    "p.show()"
   ]
  },
  {
   "cell_type": "code",
   "execution_count": 22,
   "id": "5155b184",
   "metadata": {},
   "outputs": [
    {
     "name": "stdout",
     "output_type": "stream",
     "text": [
      "I am Bill, and I am 34 years old\n"
     ]
    }
   ],
   "source": [
    "c = Cat(\"Bill\", 34)\n",
    "c.show()  # c inherited the method .show() from the upper class \"Pet\""
   ]
  },
  {
   "cell_type": "code",
   "execution_count": 23,
   "id": "ab16e913",
   "metadata": {},
   "outputs": [
    {
     "name": "stdout",
     "output_type": "stream",
     "text": [
      "I am Jill, and I am 25 years old\n"
     ]
    }
   ],
   "source": [
    "d = Dog(\"Jill\", 25)\n",
    "d.show()"
   ]
  },
  {
   "cell_type": "code",
   "execution_count": 24,
   "id": "5b955b76",
   "metadata": {},
   "outputs": [
    {
     "name": "stdout",
     "output_type": "stream",
     "text": [
      "I don't know what to say!\n",
      "Meow!\n",
      "Bark!\n"
     ]
    }
   ],
   "source": [
    "p.speak(); c.speak(); d.speak()"
   ]
  },
  {
   "cell_type": "code",
   "execution_count": 25,
   "id": "e0eee578",
   "metadata": {},
   "outputs": [
    {
     "name": "stdout",
     "output_type": "stream",
     "text": [
      "I don't know what to say!\n"
     ]
    }
   ],
   "source": [
    "f = Fish(\"Bubbles\", 5)\n",
    "f.speak()"
   ]
  },
  {
   "cell_type": "markdown",
   "id": "e8f8f79c",
   "metadata": {},
   "source": [
    "## .super()\n",
    "\n",
    "**If we want to add a new attribute to a subclass, we use** `super().` to reference the **super class** (Pet). In the example below we added the attribute `color` to the subclass `Cat`."
   ]
  },
  {
   "cell_type": "code",
   "execution_count": 26,
   "id": "f1f8c743",
   "metadata": {},
   "outputs": [],
   "source": [
    "class Pet : # upper level class  # general class # super class # parent class\n",
    "    \n",
    "    def __init__(self, name, age) :\n",
    "        self.name = name\n",
    "        self.age = age\n",
    "    \n",
    "    def show(self):\n",
    "        print(f\"I am {self.name}, and I am {self.age} years old\")\n",
    "    \n",
    "    def speak(self):\n",
    "        print(\"I don't know what to say!\")\n",
    "    \n",
    "    \n",
    "class Dog(Pet) :   # inheriting the upper class \"Pet\"  # specific class # Child class\n",
    "    def speak(self) : # overwrites the speak method in Pet\n",
    "        print(\"Bark!\")\n",
    "    \n",
    "    \n",
    "class Cat(Pet) :   # inheriting the upper class \"Pet\"  # specific class\n",
    "    def __init__(self, name, age, color) :\n",
    "        # to create the new attribute 'color' in the subclass Cat,\n",
    "        #we use super().__init__(name, age) to reference the super class Pet\n",
    "        super().__init__(name, age)\n",
    "        self.color = color\n",
    "            \n",
    "    def speak(self) : # overwrites the speak method in Pet\n",
    "        print(\"Meow!\")\n",
    "    \n",
    "    def show(self):\n",
    "        print(f\"I am {self.name} and I am {self.age} years old and I am {self.color}\")\n",
    "        \n",
    "        "
   ]
  },
  {
   "cell_type": "code",
   "execution_count": 27,
   "id": "a4982726",
   "metadata": {},
   "outputs": [
    {
     "name": "stdout",
     "output_type": "stream",
     "text": [
      "I am Bill and I am 34 years old and I am Blue\n"
     ]
    }
   ],
   "source": [
    "c = Cat(\"Bill\", 34, \"Blue\")\n",
    "c.show()"
   ]
  },
  {
   "cell_type": "markdown",
   "id": "7fff75b1",
   "metadata": {},
   "source": [
    "# Static Methods,  Class Methods,  and Class Attributes\n",
    "\n",
    "## Class Attributes\n",
    "\n",
    "Previously, we've seen that everytime we defined an attribute for one of our objects, we used `self`, and inside the class we had `self` everywhere, `self` was refering to the **instance** in which we were talking about in that context. So here, we're going to talk about **class attributes** :\n",
    "\n",
    "* **class attributes :** are attributes that are specific to the class not to an instance or an object of that class.\n",
    "\n",
    "The reason why `number_of_people` is not a regular attribute is because it doesn't use `self`. So because it's not defined inside any method, because it doesn't have access to an instance of the class, it is defined for the entire class, which means that `number_of_people = 0` is not specific to any instance, it's not going to change from person to person, whereas we know something like `self.name` will be different for each instance of the `Person` class"
   ]
  },
  {
   "cell_type": "code",
   "execution_count": 28,
   "id": "6dd76a33",
   "metadata": {},
   "outputs": [],
   "source": [
    "class Person:\n",
    "    number_of_people = 0 # This is a class attribute\n",
    "    \n",
    "    def __init__(self, name):\n",
    "        self.name = name  # This is the instance attribute"
   ]
  },
  {
   "cell_type": "code",
   "execution_count": 29,
   "id": "da96039d",
   "metadata": {},
   "outputs": [
    {
     "name": "stdout",
     "output_type": "stream",
     "text": [
      "0\n",
      "0\n"
     ]
    }
   ],
   "source": [
    "p1 = Person(\"Tim\")\n",
    "p2 = Person(\"Jill\")\n",
    "\n",
    "print(p1.number_of_people)\n",
    "print(p2.number_of_people)"
   ]
  },
  {
   "cell_type": "code",
   "execution_count": 30,
   "id": "0fd45e31",
   "metadata": {},
   "outputs": [
    {
     "name": "stdout",
     "output_type": "stream",
     "text": [
      "0\n"
     ]
    }
   ],
   "source": [
    "# Since it's not specific to the instance of any class, we can write :\n",
    "print(Person.number_of_people)  # that's why we call it class attribute"
   ]
  },
  {
   "cell_type": "code",
   "execution_count": 31,
   "id": "a0476ceb",
   "metadata": {},
   "outputs": [
    {
     "name": "stdout",
     "output_type": "stream",
     "text": [
      "8\n"
     ]
    }
   ],
   "source": [
    "# updating a class attribute :\n",
    "Person.number_of_people = 8\n",
    "print(p2.number_of_people)"
   ]
  },
  {
   "cell_type": "code",
   "execution_count": 32,
   "id": "71768427",
   "metadata": {},
   "outputs": [],
   "source": [
    "class Person:\n",
    "    number_of_people = 0 # This is a class attribute\n",
    "    \n",
    "    def __init__(self, name):\n",
    "        # and these are the instances attributes\n",
    "        self.name = name\n",
    "        Person.number_of_people +=1 # keep track of nb of people\n",
    "\n",
    "p1 = Person(\"Tim\")"
   ]
  },
  {
   "cell_type": "code",
   "execution_count": 33,
   "id": "9be8ba19",
   "metadata": {},
   "outputs": [
    {
     "name": "stdout",
     "output_type": "stream",
     "text": [
      "1\n"
     ]
    }
   ],
   "source": [
    "print(Person.number_of_people)"
   ]
  },
  {
   "cell_type": "code",
   "execution_count": 34,
   "id": "9e292fb1",
   "metadata": {},
   "outputs": [
    {
     "name": "stdout",
     "output_type": "stream",
     "text": [
      "2\n"
     ]
    }
   ],
   "source": [
    "p2 = Person(\"Bill\")\n",
    "print(Person.number_of_people)"
   ]
  },
  {
   "cell_type": "markdown",
   "id": "98aa7a78",
   "metadata": {},
   "source": [
    "## Class Methods :\n",
    " \n",
    " Class methods are defined a little bit differently than regular methods. In the example below, we defined a `number_of_people` class method, using a **decorator** to denote that this specific method is a class method. The idea behind this is, the `number_of_people` method is not going to be acting on behalf of one instance, it's not going to be specific to an instance, and in fact, we can call it on an instance if we want, but that's not really going to be very effective, what this is meant to do is be called on the class itself so it can deal with something like returning the `number_of_people` that are associated with this class."
   ]
  },
  {
   "cell_type": "code",
   "execution_count": 35,
   "id": "dd90655a",
   "metadata": {},
   "outputs": [],
   "source": [
    "class Person:\n",
    "    number_of_people = 0 # This is a class attribute\n",
    "    \n",
    "    def __init__(self, name):\n",
    "        self.name = name\n",
    "        Person.add_person()\n",
    "        \n",
    "    @classmethod\n",
    "    def number_of_people_(cls):\n",
    "        return cls.number_of_people\n",
    "    \n",
    "    @classmethod\n",
    "    def add_person(cls):  # add to the nb of people\n",
    "        cls.number_of_people +=1\n",
    "        "
   ]
  },
  {
   "cell_type": "markdown",
   "id": "cc2cbadf",
   "metadata": {},
   "source": [
    "So these are class methods, that means they act on the class itself, they do not have access to any instance, and that's why we've written `cls` here instead of `self`, because there's no object, what it's doing is just acting on this class."
   ]
  },
  {
   "cell_type": "code",
   "execution_count": 36,
   "id": "f0461e9b",
   "metadata": {},
   "outputs": [
    {
     "name": "stdout",
     "output_type": "stream",
     "text": [
      "1\n",
      "2\n"
     ]
    }
   ],
   "source": [
    "p1 = Person(\"Tim\")\n",
    "print(Person.number_of_people_())\n",
    "\n",
    "p2 =Person(\"Bill\")\n",
    "print(Person.number_of_people_())"
   ]
  },
  {
   "cell_type": "markdown",
   "id": "4f977338",
   "metadata": {},
   "source": [
    "## Static Methods\n",
    "\n",
    "Sometimes, we want to create classes that kind of organize functions together, so for example, when we say like `import math` and then we get access to all the `math` functions like`math.abs()` or `math.sqrt()`...etc. Well, what they sometimes end up doing, in OOP this is pretty common, is when you have a bunch of functions that you normally just define like you define like `add1()` and `add2()`, what you want to do is you want to actually organize them into a class, and the reason you do that is just so it stays a little bit structured, you can move all those classes together to another module and continue to use them, and to do something like this you want to use what's called a **static method**. In the example bellow, we made a class called `Math` and what we're going to do in here is we're going to define some methods or some functions that we'd like to be able to use but that are not specific to an instance, so we don't want them to have to make an instance of this `math` class to be able to use these methods, we want to be able to call them at any point, and it doesn't matter if we have an instance of the `math` class or not, we would like to be able to use them. So what we're going to do is actually create what's called a **static method** (static : not changing), static methods : \"they do something but they don't change anything\", they don't change anything because they can't, they don't have access to anything."
   ]
  },
  {
   "cell_type": "code",
   "execution_count": 37,
   "id": "fe0f2e58",
   "metadata": {},
   "outputs": [],
   "source": [
    "class Math :\n",
    "    \n",
    "    # These static methods are specifix to an instance, hence not using \"self\"\n",
    "    @staticmethod\n",
    "    def add5(x) :\n",
    "        return x + 5\n",
    "    \n",
    "    @staticmethod\n",
    "    def add10(x) :\n",
    "        return x + 10\n",
    "    \n",
    "    @staticmethod\n",
    "    def pr():\n",
    "        print(\"run\")"
   ]
  },
  {
   "cell_type": "code",
   "execution_count": 38,
   "id": "8e9c3686",
   "metadata": {},
   "outputs": [
    {
     "name": "stdout",
     "output_type": "stream",
     "text": [
      "10\n"
     ]
    }
   ],
   "source": [
    "print(Math.add5(5))"
   ]
  },
  {
   "cell_type": "code",
   "execution_count": 39,
   "id": "6872e1c7",
   "metadata": {},
   "outputs": [
    {
     "name": "stdout",
     "output_type": "stream",
     "text": [
      "15\n"
     ]
    }
   ],
   "source": [
    "print(Math.add10(5))"
   ]
  },
  {
   "cell_type": "code",
   "execution_count": 40,
   "id": "db29becb",
   "metadata": {},
   "outputs": [
    {
     "name": "stdout",
     "output_type": "stream",
     "text": [
      "run\n"
     ]
    }
   ],
   "source": [
    "Math.pr()"
   ]
  },
  {
   "cell_type": "markdown",
   "id": "bad66654",
   "metadata": {},
   "source": [
    "## Remark :\n",
    "\n",
    "Everything we work with is an object in some sense, functions, integers, strings...etc, are all objects. And what an object does is it's an instance of some class, and that class defines the properties and almost it's kind of the **blueprint** for that object, it says \"ok, so if we have a \"string\" we can use the methods like `.upper()`, `.lower()`...etc, if we have an \"int\" we can add integers together. In a class, the type of an object is very important because it defines the behavior which it can exhibit."
   ]
  },
  {
   "cell_type": "code",
   "execution_count": null,
   "id": "35c95ca6",
   "metadata": {},
   "outputs": [],
   "source": []
  }
 ],
 "metadata": {
  "kernelspec": {
   "display_name": "Python 3 (ipykernel)",
   "language": "python",
   "name": "python3"
  },
  "language_info": {
   "codemirror_mode": {
    "name": "ipython",
    "version": 3
   },
   "file_extension": ".py",
   "mimetype": "text/x-python",
   "name": "python",
   "nbconvert_exporter": "python",
   "pygments_lexer": "ipython3",
   "version": "3.10.10"
  }
 },
 "nbformat": 4,
 "nbformat_minor": 5
}
